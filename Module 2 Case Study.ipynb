{
 "cells": [
  {
   "cell_type": "code",
   "execution_count": null,
   "id": "dd575904-fa7b-46d8-b473-33c7307d8aa8",
   "metadata": {},
   "outputs": [
    {
     "name": "stdout",
     "output_type": "stream",
     "text": [
      "Enter student's last name: Jean\n",
      "Please enter student's first name: Kristen\n",
      "Enter GPA: 3.3\n"
     ]
    },
    {
     "name": "stdout",
     "output_type": "stream",
     "text": [
      "Kristen Jean has made Honor Roll.\n"
     ]
    },
    {
     "name": "stdout",
     "output_type": "stream",
     "text": [
      "Enter student's last name: Albert\n",
      "Please enter student's first name: Lily\n",
      "Enter GPA: 3.6\n"
     ]
    },
    {
     "name": "stdout",
     "output_type": "stream",
     "text": [
      "Lily Albert has made the Deans List.\n"
     ]
    },
    {
     "name": "stdout",
     "output_type": "stream",
     "text": [
      "Enter student's last name: Sinclar\n",
      "Please enter student's first name: Enid\n",
      "Enter GPA: 3.5\n"
     ]
    },
    {
     "name": "stdout",
     "output_type": "stream",
     "text": [
      "Enid Sinclar has made the Deans List.\n"
     ]
    },
    {
     "name": "stdout",
     "output_type": "stream",
     "text": [
      "Enter student's last name: Nunez\n",
      "Please enter student's first name: Claire\n",
      "Enter GPA: 3.7\n"
     ]
    },
    {
     "name": "stdout",
     "output_type": "stream",
     "text": [
      "Claire Nunez has made the Deans List.\n"
     ]
    },
    {
     "name": "stdout",
     "output_type": "stream",
     "text": [
      "Enter student's last name: Feist\n",
      "Please enter student's first name: Kami\n",
      "Enter GPA: 3.25\n"
     ]
    },
    {
     "name": "stdout",
     "output_type": "stream",
     "text": [
      "Kami Feist has made Honor Roll.\n"
     ]
    }
   ],
   "source": [
    "#Author Kiley Gilbert\n",
    "#File Name Module 2 Lab - Case Study: if...else and while\n",
    "# This app will ask for a students last name and accept their GPA\n",
    "#, then test if its greater or less a 3.5 or 3.25 and print the according messages.\n",
    "\n",
    "DeansList = 3.5\n",
    "\n",
    "HonorRoll = 3.25\n",
    "\n",
    "while True:\n",
    "\n",
    "    StudentsLastName = input(\"Enter student's last name:\")\n",
    "    if StudentsLastName =='ZZZ':\n",
    "        break\n",
    "\n",
    "    StudentsFirstName = input(\"Please enter student's first name:\")\n",
    "    GPA = float(input(\"Enter GPA:\"))\n",
    "    if HonorRoll <= GPA < DeansList:\n",
    "        print(StudentsFirstName + \" \" + StudentsLastName + \" has made Honor Roll.\")\n",
    "    elif GPA >= DeansList:\n",
    "        print(StudentsFirstName + \" \" + StudentsLastName + \" has made the Deans List.\")\n"
   ]
  },
  {
   "cell_type": "code",
   "execution_count": null,
   "id": "1c74cd01-e318-4d85-8e34-f470698111ae",
   "metadata": {},
   "outputs": [],
   "source": []
  }
 ],
 "metadata": {
  "kernelspec": {
   "display_name": "anaconda-2024.02-py310",
   "language": "python",
   "name": "conda-env-anaconda-2024.02-py310-py"
  },
  "language_info": {
   "codemirror_mode": {
    "name": "ipython",
    "version": 3
   },
   "file_extension": ".py",
   "mimetype": "text/x-python",
   "name": "python",
   "nbconvert_exporter": "python",
   "pygments_lexer": "ipython3",
   "version": "3.10.14"
  }
 },
 "nbformat": 4,
 "nbformat_minor": 5
}
