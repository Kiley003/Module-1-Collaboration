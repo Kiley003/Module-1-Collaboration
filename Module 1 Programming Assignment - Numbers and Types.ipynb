{
 "cells": [
  {
   "cell_type": "code",
   "execution_count": 20,
   "id": "d79f273d-e571-43df-9607-419029f8ac78",
   "metadata": {},
   "outputs": [
    {
     "name": "stdout",
     "output_type": "stream",
     "text": [
      "3600 seconds per hour\n"
     ]
    }
   ],
   "source": [
    "#Question 1\n",
    "seconds = 60 \n",
    "minutes = 60\n",
    "\n",
    "seconds_per_hour = seconds * minutes\n",
    "print(seconds_per_hour, \"seconds per hour\")"
   ]
  },
  {
   "cell_type": "code",
   "execution_count": 22,
   "id": "8d629ada-ca34-4952-91e5-7b59ea0cee25",
   "metadata": {},
   "outputs": [
    {
     "name": "stdout",
     "output_type": "stream",
     "text": [
      "86400 seconds per day\n"
     ]
    }
   ],
   "source": [
    "#Question 2\n",
    "day = 24\n",
    "\n",
    "seconds_per_day = seconds_per_hour * day\n",
    "print(seconds_per_day, \"seconds per day\")"
   ]
  },
  {
   "cell_type": "code",
   "execution_count": 24,
   "id": "9ddc13c1-cf84-4cad-a625-3569420e1e67",
   "metadata": {},
   "outputs": [
    {
     "name": "stdout",
     "output_type": "stream",
     "text": [
      "86400 seconds per day\n"
     ]
    }
   ],
   "source": [
    "#Question 3\n",
    "\n",
    "seconds_per_day = seconds_per_hour * day\n",
    "print(seconds_per_day, \"seconds per day\")\n"
   ]
  },
  {
   "cell_type": "code",
   "execution_count": 13,
   "id": "60fdc7c3-6517-4bcf-8cb1-1c5097fc8417",
   "metadata": {},
   "outputs": [
    {
     "name": "stdout",
     "output_type": "stream",
     "text": [
      "24.0\n"
     ]
    }
   ],
   "source": [
    "#Question 4\n",
    "print(seconds_per_day / seconds_per_hour)\n"
   ]
  },
  {
   "cell_type": "code",
   "execution_count": 26,
   "id": "c53f3b87-bd80-4e2e-b9c5-f5e9b7fc3378",
   "metadata": {},
   "outputs": [
    {
     "name": "stdout",
     "output_type": "stream",
     "text": [
      "24\n"
     ]
    }
   ],
   "source": [
    "#Question 5\n",
    "print(seconds_per_day // seconds_per_hour)"
   ]
  },
  {
   "cell_type": "code",
   "execution_count": null,
   "id": "71840e04-9e1d-46fa-bf1f-393ffc073682",
   "metadata": {},
   "outputs": [],
   "source": [
    "#Question 6\n",
    "Yes, the number can agree with the floating-point value\n",
    "because 24.0 can be rounded off to just 24."
   ]
  }
 ],
 "metadata": {
  "kernelspec": {
   "display_name": "anaconda-2022.05-py39",
   "language": "python",
   "name": "conda-env-anaconda-2022.05-py39-py"
  },
  "language_info": {
   "codemirror_mode": {
    "name": "ipython",
    "version": 3
   },
   "file_extension": ".py",
   "mimetype": "text/x-python",
   "name": "python",
   "nbconvert_exporter": "python",
   "pygments_lexer": "ipython3",
   "version": "3.9.12"
  }
 },
 "nbformat": 4,
 "nbformat_minor": 5
}
